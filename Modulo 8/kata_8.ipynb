{
 "cells": [
  {
   "cell_type": "markdown",
   "metadata": {},
   "source": [
    "# Creación de Diccionarios"
   ]
  },
  {
   "cell_type": "code",
   "execution_count": 11,
   "metadata": {},
   "outputs": [
    {
     "name": "stdout",
     "output_type": "stream",
     "text": [
      "Mars has 2 moons\n"
     ]
    },
    {
     "ename": "KeyError",
     "evalue": "'circumference (km)'",
     "output_type": "error",
     "traceback": [
      "\u001b[1;31m---------------------------------------------------------------------------\u001b[0m",
      "\u001b[1;31mKeyError\u001b[0m                                  Traceback (most recent call last)",
      "\u001b[1;32mc:\\Users\\emman\\Desktop\\Notebooks\\Módulo 8\\kata_8.ipynb Cell 2'\u001b[0m in \u001b[0;36m<module>\u001b[1;34m\u001b[0m\n\u001b[0;32m      <a href='vscode-notebook-cell:/c%3A/Users/emman/Desktop/Notebooks/M%C3%B3dulo%208/kata_8.ipynb#ch0000000?line=5'>6</a>\u001b[0m \u001b[39mprint\u001b[39m(\u001b[39mf\u001b[39m\u001b[39m'\u001b[39m\u001b[39m{\u001b[39;00mpizza_planet[\u001b[39m\"\u001b[39m\u001b[39mname\u001b[39m\u001b[39m\"\u001b[39m]\u001b[39m}\u001b[39;00m\u001b[39m has \u001b[39m\u001b[39m{\u001b[39;00mpizza_planet[\u001b[39m\"\u001b[39m\u001b[39mmoons\u001b[39m\u001b[39m\"\u001b[39m]\u001b[39m}\u001b[39;00m\u001b[39m moons\u001b[39m\u001b[39m'\u001b[39m)\n\u001b[0;32m      <a href='vscode-notebook-cell:/c%3A/Users/emman/Desktop/Notebooks/M%C3%B3dulo%208/kata_8.ipynb#ch0000000?line=7'>8</a>\u001b[0m pizza_planet[\u001b[39m'\u001b[39m\u001b[39mCircumference km\u001b[39m\u001b[39m'\u001b[39m] \u001b[39m=\u001b[39m {\n\u001b[0;32m      <a href='vscode-notebook-cell:/c%3A/Users/emman/Desktop/Notebooks/M%C3%B3dulo%208/kata_8.ipynb#ch0000000?line=8'>9</a>\u001b[0m     \u001b[39m'\u001b[39m\u001b[39mpolar\u001b[39m\u001b[39m'\u001b[39m: \u001b[39m2121\u001b[39m,\n\u001b[0;32m     <a href='vscode-notebook-cell:/c%3A/Users/emman/Desktop/Notebooks/M%C3%B3dulo%208/kata_8.ipynb#ch0000000?line=9'>10</a>\u001b[0m     \u001b[39m'\u001b[39m\u001b[39mequatorial\u001b[39m\u001b[39m'\u001b[39m: \u001b[39m212121\u001b[39m\n\u001b[0;32m     <a href='vscode-notebook-cell:/c%3A/Users/emman/Desktop/Notebooks/M%C3%B3dulo%208/kata_8.ipynb#ch0000000?line=10'>11</a>\u001b[0m }\n\u001b[1;32m---> <a href='vscode-notebook-cell:/c%3A/Users/emman/Desktop/Notebooks/M%C3%B3dulo%208/kata_8.ipynb#ch0000000?line=12'>13</a>\u001b[0m \u001b[39mprint\u001b[39m(\u001b[39mf\u001b[39m\u001b[39m'\u001b[39m\u001b[39m{\u001b[39;00mpizza_planet[\u001b[39m\"\u001b[39m\u001b[39mname\u001b[39m\u001b[39m\"\u001b[39m]\u001b[39m}\u001b[39;00m\u001b[39m has a polar circumference of \u001b[39m\u001b[39m{\u001b[39;00mpizza_planet[\u001b[39m\"\u001b[39m\u001b[39mcircumference (km)\u001b[39m\u001b[39m\"\u001b[39m][\u001b[39m\"\u001b[39m\u001b[39mpolar\u001b[39m\u001b[39m\"\u001b[39m]\u001b[39m}\u001b[39;00m\u001b[39m'\u001b[39m)\n",
      "\u001b[1;31mKeyError\u001b[0m: 'circumference (km)'"
     ]
    }
   ],
   "source": [
    "pizza_planet = {\n",
    "    'name': 'Mars',\n",
    "    'moons': 2\n",
    "}\n",
    "\n",
    "print(f'{pizza_planet[\"name\"]} has {pizza_planet[\"moons\"]} moons')\n",
    "\n",
    "pizza_planet['Circumference km'] = {\n",
    "    'polar': 2121,\n",
    "    'equatorial': 212121\n",
    "}\n",
    "\n",
    "print(f'{pizza_planet[\"name\"]} has a polar circumference of {pizza_planet[\"circumference (km)\"][\"polar\"]}')"
   ]
  },
  {
   "cell_type": "markdown",
   "metadata": {},
   "source": [
    "# Programación Dinámica con Diccionarios"
   ]
  },
  {
   "cell_type": "code",
   "execution_count": 8,
   "metadata": {},
   "outputs": [
    {
     "name": "stdout",
     "output_type": "stream",
     "text": [
      "Mars has 2 moons\n"
     ]
    },
    {
     "ename": "KeyError",
     "evalue": "'circumference (km)'",
     "output_type": "error",
     "traceback": [
      "\u001b[1;31m---------------------------------------------------------------------------\u001b[0m",
      "\u001b[1;31mKeyError\u001b[0m                                  Traceback (most recent call last)",
      "\u001b[1;32mc:\\Users\\emman\\Desktop\\Notebooks\\Módulo 8\\kata_8.ipynb Cell 4'\u001b[0m in \u001b[0;36m<module>\u001b[1;34m\u001b[0m\n\u001b[0;32m      <a href='vscode-notebook-cell:/c%3A/Users/emman/Desktop/Notebooks/M%C3%B3dulo%208/kata_8.ipynb#ch0000003?line=5'>6</a>\u001b[0m \u001b[39mprint\u001b[39m(\u001b[39mf\u001b[39m\u001b[39m'\u001b[39m\u001b[39m{\u001b[39;00mpizza_planet[\u001b[39m\"\u001b[39m\u001b[39mname\u001b[39m\u001b[39m\"\u001b[39m]\u001b[39m}\u001b[39;00m\u001b[39m has \u001b[39m\u001b[39m{\u001b[39;00mpizza_planet[\u001b[39m\"\u001b[39m\u001b[39mmoons\u001b[39m\u001b[39m\"\u001b[39m]\u001b[39m}\u001b[39;00m\u001b[39m moons\u001b[39m\u001b[39m'\u001b[39m)\n\u001b[0;32m      <a href='vscode-notebook-cell:/c%3A/Users/emman/Desktop/Notebooks/M%C3%B3dulo%208/kata_8.ipynb#ch0000003?line=7'>8</a>\u001b[0m pizza_planet[\u001b[39m'\u001b[39m\u001b[39mCircumference km\u001b[39m\u001b[39m'\u001b[39m] \u001b[39m=\u001b[39m {\n\u001b[0;32m      <a href='vscode-notebook-cell:/c%3A/Users/emman/Desktop/Notebooks/M%C3%B3dulo%208/kata_8.ipynb#ch0000003?line=8'>9</a>\u001b[0m     \u001b[39m'\u001b[39m\u001b[39mpolar\u001b[39m\u001b[39m'\u001b[39m: \u001b[39m2121\u001b[39m,\n\u001b[0;32m     <a href='vscode-notebook-cell:/c%3A/Users/emman/Desktop/Notebooks/M%C3%B3dulo%208/kata_8.ipynb#ch0000003?line=9'>10</a>\u001b[0m     \u001b[39m'\u001b[39m\u001b[39mequatorial\u001b[39m\u001b[39m'\u001b[39m: \u001b[39m2121\u001b[39m\n\u001b[0;32m     <a href='vscode-notebook-cell:/c%3A/Users/emman/Desktop/Notebooks/M%C3%B3dulo%208/kata_8.ipynb#ch0000003?line=10'>11</a>\u001b[0m }\n\u001b[1;32m---> <a href='vscode-notebook-cell:/c%3A/Users/emman/Desktop/Notebooks/M%C3%B3dulo%208/kata_8.ipynb#ch0000003?line=12'>13</a>\u001b[0m \u001b[39mprint\u001b[39m(\u001b[39mf\u001b[39m\u001b[39m'\u001b[39m\u001b[39m{\u001b[39;00mpizza_planet[\u001b[39m\"\u001b[39m\u001b[39mname\u001b[39m\u001b[39m\"\u001b[39m]\u001b[39m}\u001b[39;00m\u001b[39m has a polar circumference of \u001b[39m\u001b[39m{\u001b[39;00mpizza_planet[\u001b[39m\"\u001b[39m\u001b[39mcircumference (km)\u001b[39m\u001b[39m\"\u001b[39m][\u001b[39m\"\u001b[39m\u001b[39mpolar\u001b[39m\u001b[39m\"\u001b[39m]\u001b[39m}\u001b[39;00m\u001b[39m'\u001b[39m)\n\u001b[0;32m     <a href='vscode-notebook-cell:/c%3A/Users/emman/Desktop/Notebooks/M%C3%B3dulo%208/kata_8.ipynb#ch0000003?line=14'>15</a>\u001b[0m moons \u001b[39m=\u001b[39m planet_moons\u001b[39m.\u001b[39mvalues()\n\u001b[0;32m     <a href='vscode-notebook-cell:/c%3A/Users/emman/Desktop/Notebooks/M%C3%B3dulo%208/kata_8.ipynb#ch0000003?line=15'>16</a>\u001b[0m planets \u001b[39m=\u001b[39m \u001b[39mlen\u001b[39m(planet_moons\u001b[39m.\u001b[39mkeys())\n",
      "\u001b[1;31mKeyError\u001b[0m: 'circumference (km)'"
     ]
    }
   ],
   "source": [
    "pizza_planet = {\n",
    "    'name': 'Mars',\n",
    "    'moons': 2\n",
    "}\n",
    "\n",
    "print(f'{pizza_planet[\"name\"]} has {pizza_planet[\"moons\"]} moons')\n",
    "\n",
    "pizza_planet['Circumference km'] = {\n",
    "    'polar': 2121,\n",
    "    'equatorial': 2121\n",
    "}\n",
    "\n",
    "print(f'{pizza_planet[\"name\"]} has a polar circumference of {pizza_planet[\"circumference (km)\"][\"polar\"]}')\n",
    "\n",
    "moons = planet_moons.values()\n",
    "planets = len(planet_moons.keys())\n",
    "\n",
    "t_moons = 0\n",
    "for moon in moons:\n",
    "    t_moons = t_moons + moon\n",
    "\n",
    "avg = t_moons / planets\n",
    "\n",
    "print(avg)"
   ]
  }
 ],
 "metadata": {
  "interpreter": {
   "hash": "1fc218987ba7cde18279e759fbac815badc8488d62b32762933d935254cba4d6"
  },
  "kernelspec": {
   "display_name": "Python 3.10.2 64-bit",
   "language": "python",
   "name": "python3"
  },
  "language_info": {
   "codemirror_mode": {
    "name": "ipython",
    "version": 3
   },
   "file_extension": ".py",
   "mimetype": "text/x-python",
   "name": "python",
   "nbconvert_exporter": "python",
   "pygments_lexer": "ipython3",
   "version": "3.10.2"
  },
  "orig_nbformat": 4
 },
 "nbformat": 4,
 "nbformat_minor": 2
}
