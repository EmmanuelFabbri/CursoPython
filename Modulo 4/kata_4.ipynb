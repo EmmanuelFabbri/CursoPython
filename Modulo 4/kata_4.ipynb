{
 "cells": [
  {
   "cell_type": "markdown",
   "metadata": {},
   "source": [
    "# Transformar Cadenas"
   ]
  },
  {
   "cell_type": "code",
   "execution_count": 19,
   "metadata": {},
   "outputs": [
    {
     "name": "stdout",
     "output_type": "stream",
     "text": [
      "interesting facts about the moon\n",
      " the moon is earth's only satellite\n",
      " there are several interesting facts about the moon and how it affects life here on earth\n",
      " \n",
      "on average, the moon moves 4cm away from the earth every year\n",
      " this yearly drift is not significant enough to cause immediate effects on earth\n",
      " the highest daylight temperature of the moon is 127 c\n"
     ]
    }
   ],
   "source": [
    "text = \"\"\"Interesting facts about the Moon. The Moon is Earth's only satellite. There are several interesting facts about the Moon and how it affects life here on Earth. \n",
    "On average, the Moon moves 4cm away from the Earth every year. This yearly drift is not significant enough to cause immediate effects on Earth. The highest daylight temperature of the Moon is 127 C.\"\"\".lower()\n",
    "\n",
    "text_2 = text.split('.')\n",
    "text_2\n",
    "\n",
    "words = [\"average, distance, temperature\"]\n",
    "\n",
    "for word in text_2:\n",
    "    for words in word:\n",
    "        if words in word:\n",
    "            print(word.replace('C', 'Celcius'))\n",
    "            \n",
    "            break"
   ]
  },
  {
   "cell_type": "markdown",
   "metadata": {},
   "source": [
    "# Formateando Cadenas"
   ]
  },
  {
   "cell_type": "code",
   "execution_count": 28,
   "metadata": {},
   "outputs": [
    {
     "name": "stdout",
     "output_type": "stream",
     "text": [
      "---------------------\n",
      "Planet name: Mars\n",
      "Gravity 0.00143: 3.03303\n",
      "\n",
      "\n",
      "More Gravity info 'bout: Ganimedes\n",
      "Planet name: Mars\n",
      "Gravity Ganimedes: 0.00143\n",
      "\n"
     ]
    }
   ],
   "source": [
    "name = \"Ganimedes\"\n",
    "gravity = 0.00143\n",
    "planet = \"Mars\"\n",
    "head = \"gravity: the earth and the moon\"\n",
    "\n",
    "head.title()\n",
    "\n",
    "title = f'{head.title} {name}'\n",
    "\n",
    "answer = f\"\"\"{'-'*21}\n",
    "Planet name: {planet}\n",
    "Gravity {gravity}: {gravity * 2121}\n",
    "\"\"\"\n",
    "\n",
    "temp = f\"\"\"{title.title()}\n",
    "{answer}\n",
    "\"\"\"\n",
    "\n",
    "print(answer)\n",
    "\n",
    "n_temp = \"\"\"\n",
    "More Gravity info 'bout: {name}\n",
    "Planet name: {planet}\n",
    "Gravity {name}: {gravity}\n",
    "\"\"\"\n",
    "print(n_temp.format(name=name, planet=planet, gravity=gravity))\n"
   ]
  }
 ],
 "metadata": {
  "interpreter": {
   "hash": "1fc218987ba7cde18279e759fbac815badc8488d62b32762933d935254cba4d6"
  },
  "kernelspec": {
   "display_name": "Python 3.10.2 64-bit",
   "language": "python",
   "name": "python3"
  },
  "language_info": {
   "codemirror_mode": {
    "name": "ipython",
    "version": 3
   },
   "file_extension": ".py",
   "mimetype": "text/x-python",
   "name": "python",
   "nbconvert_exporter": "python",
   "pygments_lexer": "ipython3",
   "version": "3.10.2"
  },
  "orig_nbformat": 4
 },
 "nbformat": 4,
 "nbformat_minor": 2
}
