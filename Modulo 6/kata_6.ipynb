{
 "cells": [
  {
   "cell_type": "markdown",
   "metadata": {},
   "source": [
    "# Crear y Usar Listas"
   ]
  },
  {
   "cell_type": "code",
   "execution_count": 9,
   "metadata": {},
   "outputs": [
    {
     "name": "stdout",
     "output_type": "stream",
     "text": [
      "There're 8 planets.\n",
      "And  Pluto is the last planet.\n"
     ]
    }
   ],
   "source": [
    "planets = ['Mercury', 'Venus', 'Earth', 'Mars', 'Jupiter', 'Saturn', 'Uranus', 'Neptune']\n",
    "\n",
    "print(\"There're\", len(planets), 'planets.')\n",
    "\n",
    "planets.append('Pluto')\n",
    "\n",
    "print('And ', planets[-1], 'is the last planet.')"
   ]
  },
  {
   "cell_type": "markdown",
   "metadata": {},
   "source": [
    "# Trabajando con Una Lista de Datos"
   ]
  },
  {
   "cell_type": "code",
   "execution_count": 2,
   "metadata": {},
   "outputs": [
    {
     "name": "stdout",
     "output_type": "stream",
     "text": [
      "Planets closer: Mars\n",
      "['Mercury', 'Venus', 'Earth']\n",
      "Planets further: Mars\n",
      "['Jupiter', 'Saturn', 'Uranus', 'Neptune']\n"
     ]
    }
   ],
   "source": [
    "planets = ['Mercury', 'Venus', 'Earth', 'Mars', 'Jupiter', 'Saturn', 'Uranus', 'Neptune']\n",
    "\n",
    "chosen_planet = input('Write the name of the planet: ')\n",
    "index_p = planets.index(chosen_planet)\n",
    "\n",
    "print('Planets closer: ' + chosen_planet)\n",
    "print(planets[0:index_p])\n",
    "\n",
    "print('Planets further: ' + chosen_planet)\n",
    "print(planets[index_p + 1:])"
   ]
  }
 ],
 "metadata": {
  "interpreter": {
   "hash": "1fc218987ba7cde18279e759fbac815badc8488d62b32762933d935254cba4d6"
  },
  "kernelspec": {
   "display_name": "Python 3.10.2 64-bit",
   "language": "python",
   "name": "python3"
  },
  "language_info": {
   "codemirror_mode": {
    "name": "ipython",
    "version": 3
   },
   "file_extension": ".py",
   "mimetype": "text/x-python",
   "name": "python",
   "nbconvert_exporter": "python",
   "pygments_lexer": "ipython3",
   "version": "3.10.2"
  },
  "orig_nbformat": 4
 },
 "nbformat": 4,
 "nbformat_minor": 2
}
