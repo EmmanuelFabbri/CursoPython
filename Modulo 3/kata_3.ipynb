{
 "cells": [
  {
   "cell_type": "markdown",
   "metadata": {},
   "source": [
    "# Advertencia de Asteroides if, else y elif"
   ]
  },
  {
   "cell_type": "code",
   "execution_count": 21,
   "metadata": {},
   "outputs": [
    {
     "name": "stdout",
     "output_type": "stream",
     "text": [
      "No hay peligro de asteroides\n"
     ]
    }
   ],
   "source": [
    "asteroide = 21\n",
    "\n",
    "if asteroide >= 25:\n",
    "    print(\"Alerta de asteroides, se acerca a la Tierra a una velocidad de: \" + str(asteroide) + \" km/s\")\n",
    "elif asteroide == 19:\n",
    "     print (\"Se acerca a la atmósfera un asteroide a una velocidad de 19 km/s\")\n",
    "else:\n",
    "    print(\"No hay peligro de asteroides\")"
   ]
  },
  {
   "cell_type": "markdown",
   "metadata": {},
   "source": [
    "# Advertencia de Asteroides and y or"
   ]
  },
  {
   "cell_type": "code",
   "execution_count": 22,
   "metadata": {},
   "outputs": [
    {
     "name": "stdout",
     "output_type": "stream",
     "text": [
      "El asteroide es tan pequeño que no representa ningún peligro\n"
     ]
    }
   ],
   "source": [
    "asteroide = 21\n",
    "size = 21\n",
    "\n",
    "if asteroide >= 25 and size >= 25:\n",
    "    print(\"Alerta de asteroides, se acerca a la Tierra a una velocidad de: \" + str(asteroide) + \" km/s\")\n",
    "elif asteroide == 19:\n",
    "     print (\"Se acerca a la atmósfera un asteroide a una velocidad de 19 km/s\")\n",
    "elif size < 25:\n",
    "     print (\"El asteroide es tan pequeño que no representa ningún peligro\")\n",
    "else:\n",
    "    print(\"No hay peligro de asteroides\")"
   ]
  }
 ],
 "metadata": {
  "interpreter": {
   "hash": "1fc218987ba7cde18279e759fbac815badc8488d62b32762933d935254cba4d6"
  },
  "kernelspec": {
   "display_name": "Python 3.10.2 64-bit",
   "language": "python",
   "name": "python3"
  },
  "language_info": {
   "codemirror_mode": {
    "name": "ipython",
    "version": 3
   },
   "file_extension": ".py",
   "mimetype": "text/x-python",
   "name": "python",
   "nbconvert_exporter": "python",
   "pygments_lexer": "ipython3",
   "version": "3.10.2"
  },
  "orig_nbformat": 4
 },
 "nbformat": 4,
 "nbformat_minor": 2
}
