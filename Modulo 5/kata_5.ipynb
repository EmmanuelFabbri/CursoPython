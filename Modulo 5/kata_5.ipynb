{
 "cells": [
  {
   "cell_type": "markdown",
   "metadata": {},
   "source": [
    "# Operadores Matemáticos"
   ]
  },
  {
   "cell_type": "code",
   "execution_count": 7,
   "metadata": {},
   "outputs": [
    {
     "name": "stdout",
     "output_type": "stream",
     "text": [
      "The distance between the planets is 628949330 km\n",
      "The distance between the planets in miles is 390577533.93 mi\n"
     ]
    }
   ],
   "source": [
    "earth = 149597870\n",
    "jupiter = 778547200\n",
    "\n",
    "distance = jupiter - earth\n",
    "print(\"The distance between the planets in kilometers is: \" + str(distance) + \" km\")\n",
    "miles = distance * 0.621\n",
    "print(\"The distance between the planets in miles is: \" + str(miles) + \" mi\")"
   ]
  },
  {
   "cell_type": "markdown",
   "metadata": {},
   "source": [
    "# Convierte Cadenas en Números y usa Valores Absolutos"
   ]
  },
  {
   "cell_type": "code",
   "execution_count": 14,
   "metadata": {},
   "outputs": [
    {
     "name": "stdout",
     "output_type": "stream",
     "text": [
      "The distance between the planets in kilometers is: 203864667 km\n",
      "The distance between the planets inmiles is: 126599958.207 mi\n"
     ]
    }
   ],
   "source": [
    "planet0 = input(\"Write the first distance in km: \")\n",
    "planet1 = input(\"Write the second distance in km: \")\n",
    "\n",
    "planet0 = int(planet0)\n",
    "planet1 = int(planet1)\n",
    "\n",
    "km = planet1 - planet0\n",
    "print(\"The distance between the planets in kilometers is: \" + str(km) + \" km\")\n",
    "mi = km * 0.621\n",
    "print(\"The distance between the planets inmiles is: \" + str(abs(mi)) + \" mi\")"
   ]
  }
 ],
 "metadata": {
  "interpreter": {
   "hash": "1fc218987ba7cde18279e759fbac815badc8488d62b32762933d935254cba4d6"
  },
  "kernelspec": {
   "display_name": "Python 3.10.2 64-bit",
   "language": "python",
   "name": "python3"
  },
  "language_info": {
   "codemirror_mode": {
    "name": "ipython",
    "version": 3
   },
   "file_extension": ".py",
   "mimetype": "text/x-python",
   "name": "python",
   "nbconvert_exporter": "python",
   "pygments_lexer": "ipython3",
   "version": "3.10.2"
  },
  "orig_nbformat": 4
 },
 "nbformat": 4,
 "nbformat_minor": 2
}
