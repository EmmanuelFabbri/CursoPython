{
 "cells": [
  {
   "cell_type": "markdown",
   "metadata": {},
   "source": [
    "# Uso de Funciones Python"
   ]
  },
  {
   "cell_type": "code",
   "execution_count": 9,
   "metadata": {},
   "outputs": [
    {
     "name": "stdout",
     "output_type": "stream",
     "text": [
      "Fuel:\n",
      "    Total Average: 21.0%\n",
      "    Main tank: 21%\n",
      "    External tank: 21%\n",
      "    Hydrogen tank: 21% \n",
      "    \n"
     ]
    },
    {
     "data": {
      "text/plain": [
       "42.333333333333336"
      ]
     },
     "execution_count": 9,
     "metadata": {},
     "output_type": "execute_result"
    }
   ],
   "source": [
    "def fuel(first_t, second_t, hydro_t):\n",
    "    total_average = (first_t + second_t + hydro_t) / 3\n",
    "    return f\"\"\"Fuel:\n",
    "    Total Average: {total_average}%\n",
    "    Main tank: {first_t}%\n",
    "    External tank: {second_t}%\n",
    "    Hydrogen tank: {hydro_t}% \n",
    "    \"\"\"\n",
    "print(fuel(21, 21, 21))\n",
    "\n",
    "def avg(values):\n",
    "    total = sum(values)\n",
    "    number_of_items = len(values)\n",
    "    return total / number_of_items\n",
    "avg([21, 85, 21]) \n",
    "\n"
   ]
  },
  {
   "cell_type": "markdown",
   "metadata": {},
   "source": [
    "# Argumentos de Palabra Clave"
   ]
  },
  {
   "cell_type": "code",
   "execution_count": 13,
   "metadata": {},
   "outputs": [
    {
     "name": "stdout",
     "output_type": "stream",
     "text": [
      "\n",
      "    Mission 2 Moon\n",
      "    Total time: 65 minutes\n",
      "    Total fuel: 500000 %\n",
      "    \n",
      "\n",
      "    Mission 2 Moon\n",
      "    Total time: 74 minutes\n",
      "    Total fuel: 500000\n",
      "    main tank --> 300000 gallons left\n",
      "external tank --> 200000 gallons left\n",
      "\n"
     ]
    }
   ],
   "source": [
    "\n",
    "def mission(l_time, f_time, destiny, o_tank, tank):\n",
    "    return f\"\"\"\n",
    "    Mission 2 {destiny}\n",
    "    Total time: {l_time + f_time} minutes\n",
    "    Total fuel: {o_tank + tank} %\n",
    "    \"\"\"\n",
    "\n",
    "print(mission(14, 51, \"Moon\", 200000, 300000))\n",
    "\n",
    "def mission(destiny, *mins, **fuel):\n",
    "    m_report = f\"\"\"\n",
    "    Mission 2 {destiny}\n",
    "    Total time: {sum(mins)} minutes\n",
    "    Total fuel: {sum(fuel.values())}\n",
    "    \"\"\"\n",
    "    for t_name, gal in fuel.items():\n",
    "        m_report += f\"{t_name} tank --> {gal} gallons left\\n\"\n",
    "    return m_report\n",
    "\n",
    "print(mission(\"Moon\", 8, 11, 55, main=300000, external=200000))"
   ]
  }
 ],
 "metadata": {
  "interpreter": {
   "hash": "1fc218987ba7cde18279e759fbac815badc8488d62b32762933d935254cba4d6"
  },
  "kernelspec": {
   "display_name": "Python 3.10.2 64-bit",
   "language": "python",
   "name": "python3"
  },
  "language_info": {
   "codemirror_mode": {
    "name": "ipython",
    "version": 3
   },
   "file_extension": ".py",
   "mimetype": "text/x-python",
   "name": "python",
   "nbconvert_exporter": "python",
   "pygments_lexer": "ipython3",
   "version": "3.10.2"
  },
  "orig_nbformat": 4
 },
 "nbformat": 4,
 "nbformat_minor": 2
}
